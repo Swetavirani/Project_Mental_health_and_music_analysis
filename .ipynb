{
 "cells": [
  {
   "cell_type": "code",
   "execution_count": null,
   "id": "4abc3e52",
   "metadata": {},
   "outputs": [],
   "source": [
    "Spotify API\n",
    "Client_ID = \"9792bd7754c244578bc76f765a8a2e19\"\n",
    "Client_secret = \"d0bbf400cba94364a4f5a9a2f724ab4f\""
   ]
  }
 ],
 "metadata": {
  "kernelspec": {
   "display_name": "PythonData",
   "language": "python",
   "name": "pythondata"
  },
  "language_info": {
   "codemirror_mode": {
    "name": "ipython",
    "version": 3
   },
   "file_extension": ".py",
   "mimetype": "text/x-python",
   "name": "python",
   "nbconvert_exporter": "python",
   "pygments_lexer": "ipython3",
   "version": "3.7.7"
  }
 },
 "nbformat": 4,
 "nbformat_minor": 5
}
